{
 "cells": [
  {
   "cell_type": "markdown",
   "id": "959a00df-68b3-421b-8fa7-7881128bbb01",
   "metadata": {},
   "source": [
    "# Implementing ALM From Scratch in PyTorch"
   ]
  },
  {
   "cell_type": "markdown",
   "id": "fe60c965-4c94-41cc-b7ca-a080c3bd4402",
   "metadata": {},
   "source": [
    "If you're reading this, you're probably more used than PyTorch than Jax. That is unfortunate for all of us (just kidding). Nevertheless, for this reason, we'll implement a naive version of cross-tokenizer distillation via Approximate Likelihood Matching (as introduced in [our paper](https://arxiv.org/abs/2503.20083)) from scratch in PyTorch in this guide. This should be useful if you'd like to add an ALM objective alongside your own PyTorch training procedure instead of using `tokenkit`.\n",
    "\n",
    "We will start from the alignment algorithm we discussed in the [byteification](./byteification.md) guide, and we'll make the (somewhat arbitrary) choice of using Gemma2-2B and Llama3-3B as the student and the teacher, respectively."
   ]
  },
  {
   "cell_type": "code",
   "execution_count": 1,
   "id": "c817c1f5-a7a4-46ff-984c-4e75d9bf3b76",
   "metadata": {},
   "outputs": [],
   "source": [
    "import torch\n",
    "import transformers\n",
    "import matplotlib\n",
    "import tokenkit\n",
    "import os\n",
    "\n",
    "from transformers import AutoModelForCausalLM\n",
    "import matplotlib.pyplot as plt\n",
    "\n",
    "from tokenkit import align, utils\n",
    "from tokenkit.byteify import load_byteify_tokenizer"
   ]
  },
  {
   "cell_type": "code",
   "execution_count": 2,
   "id": "229a03f6-726f-43de-9c93-8635a7a8051a",
   "metadata": {},
   "outputs": [
    {
     "name": "stdout",
     "output_type": "stream",
     "text": [
      "torch version: 2.6.0+cu124\n",
      "transformers version: 4.46.0\n",
      "matplotlib version: 3.10.1\n",
      "tokenkit commit sha:\n",
      "7b57aab49a2a95fd8c36080de0a39950b5221122"
     ]
    },
    {
     "name": "stderr",
     "output_type": "stream",
     "text": [
      "/usr/lib/python3.10/pty.py:89: RuntimeWarning: os.fork() was called. os.fork() is incompatible with multithreaded code, and JAX is multithreaded, so this will likely lead to a deadlock.\n",
      "  pid, fd = os.forkpty()\n"
     ]
    }
   ],
   "source": [
    "print(\"torch version:\", torch.__version__)\n",
    "print(\"transformers version:\", transformers.__version__)\n",
    "print(\"matplotlib version:\", matplotlib.__version__)\n",
    "\n",
    "print(\"tokenkit commit sha:\")\n",
    "!cd {os.path.dirname(tokenkit.__file__)}; git log -1 --pretty=format:\"%H\""
   ]
  },
  {
   "cell_type": "code",
   "execution_count": 3,
   "id": "7f502d5e-986e-4b05-bbde-2280adb7af54",
   "metadata": {},
   "outputs": [
    {
     "name": "stderr",
     "output_type": "stream",
     "text": [
      "2025-04-23 10:45:48.835618: W tensorflow/stream_executor/platform/default/dso_loader.cc:64] Could not load dynamic library 'libcudart.so.11.0'; dlerror: libcudart.so.11.0: cannot open shared object file: No such file or directory\n"
     ]
    },
    {
     "data": {
      "application/vnd.jupyter.widget-view+json": {
       "model_id": "be513ba45bef4afca013c845be9da03a",
       "version_major": 2,
       "version_minor": 0
      },
      "text/plain": [
       "Loading checkpoint shards:   0%|          | 0/2 [00:00<?, ?it/s]"
      ]
     },
     "metadata": {},
     "output_type": "display_data"
    },
    {
     "data": {
      "application/vnd.jupyter.widget-view+json": {
       "model_id": "32f37eb68e1044d393519ee3efd58636",
       "version_major": 2,
       "version_minor": 0
      },
      "text/plain": [
       "Loading checkpoint shards:   0%|          | 0/2 [00:00<?, ?it/s]"
      ]
     },
     "metadata": {},
     "output_type": "display_data"
    }
   ],
   "source": [
    "teacher_model = AutoModelForCausalLM.from_pretrained(\"meta-llama/Llama-3.2-3B-Instruct\")\n",
    "teacher_tokenizer = load_byteify_tokenizer(\"meta-llama/Llama-3.2-3B-Instruct:source=Llama3\")\n",
    "\n",
    "student_model = AutoModelForCausalLM.from_pretrained(\"google/gemma-2-2b-it\")\n",
    "student_tokenizer = load_byteify_tokenizer(\"google/gemma-2-2b-it:source=Gemma2\")"
   ]
  },
  {
   "cell_type": "markdown",
   "id": "744bdac5-5a77-4652-a696-ff52161af5f2",
   "metadata": {},
   "source": [
    "Define a dummy conversational corpus to use."
   ]
  },
  {
   "cell_type": "markdown",
   "id": "9ace499f-29f7-442d-bf43-dda519e3b48e",
   "metadata": {},
   "source": [
    "## Defining the Data & Tokenizing"
   ]
  },
  {
   "cell_type": "code",
   "execution_count": 4,
   "id": "9c40f967-4e83-4ce0-86d6-906ad003493d",
   "metadata": {},
   "outputs": [],
   "source": [
    "text_pairs = [\n",
    "    [\n",
    "        {\n",
    "            \"role\": \"user\",\n",
    "            \"content\": \"How are you doing?\"\n",
    "        },\n",
    "        {\n",
    "            \"role\": \"assistant\",\n",
    "            \"content\": \"I'm a large language model, so I'm naturally doing pretty well, thankyouverymuch.\",\n",
    "        }\n",
    "    ]\n",
    "]"
   ]
  },
  {
   "cell_type": "markdown",
   "id": "1d3f3402-f7a6-4462-a494-320815780d42",
   "metadata": {},
   "source": [
    "`tokenkit` supplies custom preprocessing & encoding with more control over the output than `.apply_chat_template` via `preprocess_messages` and `encode_prompt`.\n",
    "\n",
    "This allows not prepending any hardcoded system prompt (as e.g. in Llama3). This is useful since different system prompts would make sequence alignment harder (and they're generally not needed)."
   ]
  },
  {
   "cell_type": "code",
   "execution_count": 5,
   "id": "9c9f5912-dce2-461a-af38-12cf7276697a",
   "metadata": {},
   "outputs": [
    {
     "name": "stdout",
     "output_type": "stream",
     "text": [
      "['<|begin_of_text|>', '<|start_header_id|>', 'user', '<|end_header_id|>', 'ĊĊ', 'How', 'Ġare', 'Ġyou', 'Ġdoing', '?', '<|eot_id|>', '<|start_header_id|>', 'assistant', '<|end_header_id|>', 'ĊĊ', 'I', \"'m\", 'Ġa', 'Ġlarge', 'Ġlanguage', 'Ġmodel', ',', 'Ġso', 'ĠI', \"'m\", 'Ġnaturally', 'Ġdoing', 'Ġpretty', 'Ġwell', ',', 'Ġthan', 'ky', 'ou', 'very', 'much', '.', '<|eot_id|>']\n",
      "['<bos>', '<start_of_turn>', 'user', 'Ċ', 'How', 'Ġare', 'Ġyou', 'Ġdoing', '?', '<end_of_turn>', 'Ċ', '<start_of_turn>', 'model', 'Ċ', 'I', \"'\", 'm', 'Ġa', 'Ġlarge', 'Ġlanguage', 'Ġmodel', ',', 'Ġso', 'ĠI', \"'\", 'm', 'Ġnaturally', 'Ġdoing', 'Ġpretty', 'Ġwell', ',', 'Ġthan', 'kyou', 'very', 'much', '.', '<end_of_turn>', 'Ċ']\n"
     ]
    }
   ],
   "source": [
    "token_ids_teacher = []\n",
    "token_ids_student = []\n",
    "tokens_teacher = []\n",
    "tokens_student = []\n",
    "\n",
    "for text_pair in text_pairs:\n",
    "    prompt = utils.preprocess_messages(text_pair)\n",
    "\n",
    "    ids_teacher = utils.encode_prompt(prompt, teacher_tokenizer)[0]\n",
    "    ids_student = utils.encode_prompt(prompt, student_tokenizer)[0]\n",
    "\n",
    "    token_ids_teacher.append(ids_teacher)\n",
    "    token_ids_student.append(ids_student)\n",
    "    tokens_teacher.append(teacher_tokenizer.convert_ids_to_tokens(ids_teacher))\n",
    "    tokens_student.append(student_tokenizer.convert_ids_to_tokens(ids_student))\n",
    "\n",
    "print(tokens_teacher[0])\n",
    "print(tokens_student[0])"
   ]
  },
  {
   "cell_type": "markdown",
   "id": "d42f32a9-c400-4863-88f9-752b04aec17d",
   "metadata": {},
   "source": [
    "You can also use `.apply_chat_template` instead, but you'd have to manually strip the hardcoded system prompt."
   ]
  },
  {
   "cell_type": "code",
   "execution_count": 6,
   "id": "d90c67db-dd7b-4271-bbc3-cfb9e3ebab2f",
   "metadata": {},
   "outputs": [],
   "source": [
    "# ByteifyTokenizer.tokenizer accesses the underlying HF tokenizer\n",
    "tokens_teacher_ct = teacher_tokenizer.tokenizer.apply_chat_template(text_pairs[0], tokenize=False)\n",
    "tokens_teacher_ct = teacher_tokenizer.convert_ids_to_tokens(teacher_tokenizer.bos_token_id) + tokens_teacher_ct[tokens_teacher_ct.find(\"<|start_header_id|>user\"):]\n",
    "assert teacher_tokenizer.tokenize(tokens_teacher_ct) == tokens_teacher[0]"
   ]
  },
  {
   "cell_type": "markdown",
   "id": "3024b8e2-2f7c-4fe7-911c-45a8c03f4eb1",
   "metadata": {},
   "source": [
    "## Computing Token Sequence Alignments"
   ]
  },
  {
   "cell_type": "markdown",
   "id": "c0ac017f-62ba-4a37-a22a-e55e33f4d584",
   "metadata": {},
   "source": [
    "Having computed the tokens, we can now compute alignments. We will use `align.get_alignment_indices` as in the previous guide to compute a matrix mapping *token probabilities* to *chunk probabilities*, separately for the teacher and the student. We will see what this means in detail in a second.\n",
    "\n",
    "You'd typically do this in your data loading or collation step.\n"
   ]
  },
  {
   "cell_type": "code",
   "execution_count": 7,
   "id": "cb5a414b-3d6d-495f-9d77-5fcee1417324",
   "metadata": {},
   "outputs": [],
   "source": [
    "max_length_teacher = max(len(x) for x in tokens_teacher)\n",
    "max_length_student = max(len(x) for x in tokens_student)\n",
    "max_n_chunks = min(max_length_teacher, max_length_student)\n",
    "n_examples = len(text_pairs)\n",
    "\n",
    "teacher_tokens_to_chunks = torch.zeros((n_examples, max_length_teacher, max_n_chunks), dtype=torch.bool)\n",
    "student_tokens_to_chunks = torch.zeros((n_examples, max_length_student, max_n_chunks), dtype=torch.bool)\n",
    "\n",
    "for example_idx, (tteacher, tstudent) in enumerate(zip(tokens_teacher, tokens_student)):\n",
    "    for chunk_idx, (start1, end1, start2, end2) in enumerate(align.get_alignment_indices(\n",
    "        tteacher,\n",
    "        tstudent,\n",
    "        teacher_tokenizer,\n",
    "        student_tokenizer\n",
    "    )[0]):\n",
    "        teacher_tokens_to_chunks[example_idx, start1:end1, chunk_idx] = 1\n",
    "        student_tokens_to_chunks[example_idx, start2:end2, chunk_idx] = 1"
   ]
  },
  {
   "cell_type": "markdown",
   "id": "6c44298a-f14e-46c8-8eed-daf8f25b1123",
   "metadata": {},
   "source": [
    "We now have two 2d matrices which define a mapping of sequences of tokens to a chunk index, where for a given chunk index, the sequences of tokens mapping to it encode the same underlying text for the student and the teacher."
   ]
  },
  {
   "cell_type": "code",
   "execution_count": 8,
   "id": "320b86d2-afe4-4350-9057-9234df8ab754",
   "metadata": {},
   "outputs": [
    {
     "data": {
      "image/png": "[encoded data removed]",
      "text/plain": [
       "<Figure size 640x480 with 1 Axes>"
      ]
     },
     "metadata": {},
     "output_type": "display_data"
    },
    {
     "data": {
      "image/png": "[encoded data removed]",
      "text/plain": [
       "<Figure size 640x480 with 1 Axes>"
      ]
     },
     "metadata": {},
     "output_type": "display_data"
    }
   ],
   "source": [
    "plt.imshow(teacher_tokens_to_chunks[0])\n",
    "plt.title(\"teacher tokens to chunks\")\n",
    "plt.show()\n",
    "plt.imshow(student_tokens_to_chunks[0])\n",
    "plt.title(\"student tokens to chunks\")\n",
    "plt.show()"
   ]
  },
  {
   "cell_type": "markdown",
   "id": "cbec2acf-1c20-4d3a-9157-bb255b5fe459",
   "metadata": {},
   "source": [
    "As you can see, these matrices map tokens to chunks, where every chunk consists of one or more tokens, so it is a lower diagonal matrix which is in this case pretty close to diagonal (meaning we have many 1:1 alignments).\n",
    "\n",
    "However, there are some multi-token chunks. Let's look at them."
   ]
  },
  {
   "cell_type": "code",
   "execution_count": 9,
   "id": "e5b2c3ef-479e-4305-b69c-255c07b7ecf6",
   "metadata": {},
   "outputs": [
    {
     "name": "stdout",
     "output_type": "stream",
     "text": [
      "Teacher Chunk Tokens: ['<|end_header_id|>', 'ĊĊ']\n",
      "Student Chunk Tokens: ['Ċ']\n",
      "\n",
      "Teacher Chunk Tokens: ['<|eot_id|>']\n",
      "Student Chunk Tokens: ['<end_of_turn>', 'Ċ']\n",
      "\n",
      "Teacher Chunk Tokens: ['<|end_header_id|>', 'ĊĊ']\n",
      "Student Chunk Tokens: ['Ċ']\n",
      "\n",
      "Teacher Chunk Tokens: [\"'m\"]\n",
      "Student Chunk Tokens: [\"'\", 'm']\n",
      "\n",
      "Teacher Chunk Tokens: [\"'m\"]\n",
      "Student Chunk Tokens: [\"'\", 'm']\n",
      "\n",
      "Teacher Chunk Tokens: ['ky', 'ou']\n",
      "Student Chunk Tokens: ['kyou']\n",
      "\n",
      "Teacher Chunk Tokens: ['<|eot_id|>']\n",
      "Student Chunk Tokens: ['<end_of_turn>', 'Ċ']\n",
      "\n"
     ]
    }
   ],
   "source": [
    "multi_token_chunk_indices = sorted(set(torch.where(teacher_tokens_to_chunks[0].sum(-2) > 1)[0]) | set(torch.where(student_tokens_to_chunks[0].sum(-2) > 1)[0]))\n",
    "\n",
    "for chunk_idx in multi_token_chunk_indices:\n",
    "    print(\"Teacher Chunk Tokens:\", [tokens_teacher[0][i] for i in torch.where(teacher_tokens_to_chunks[0, :, chunk_idx])[0]])\n",
    "    print(\"Student Chunk Tokens:\", [tokens_student[0][i] for i in torch.where(student_tokens_to_chunks[0, :, chunk_idx])[0]])\n",
    "    print()"
   ]
  },
  {
   "cell_type": "markdown",
   "id": "01dcc20e-ad48-4452-83d5-5f30ca57ed58",
   "metadata": {},
   "source": [
    "But enough time procrastinating, and let's get on with defining the ALM objective!\n",
    "\n",
    "(just making a quick stop first to pad the ids into a single tensor and define the attention mask)"
   ]
  },
  {
   "cell_type": "code",
   "execution_count": 10,
   "id": "3f3e04e7-4cb5-453f-b9b6-a7858e7e62a2",
   "metadata": {},
   "outputs": [],
   "source": [
    "input_ids_teacher = torch.zeros((n_examples, max_length_teacher), dtype=torch.int64)\n",
    "input_ids_student = torch.zeros((n_examples, max_length_student), dtype=torch.int64)\n",
    "attention_mask_teacher = torch.zeros_like(input_ids_teacher)\n",
    "attention_mask_student = torch.zeros_like(input_ids_student)\n",
    "\n",
    "for example_idx, (tteacher_ids, tstudent_ids) in enumerate(zip(token_ids_teacher, token_ids_student)):\n",
    "    input_ids_teacher[example_idx, :len(tteacher_ids)] = torch.tensor(tteacher_ids)\n",
    "    attention_mask_teacher[example_idx, :len(tteacher_ids)] = 1\n",
    "\n",
    "    input_ids_student[example_idx, :len(tstudent_ids)] = torch.tensor(tstudent_ids)\n",
    "    attention_mask_student[example_idx, :len(tstudent_ids)] = 1"
   ]
  },
  {
   "cell_type": "markdown",
   "id": "b345d972-7dc3-43e2-8859-60f9f9aebbf2",
   "metadata": {},
   "source": [
    "## Defining the ALM objective"
   ]
  },
  {
   "cell_type": "markdown",
   "id": "fbd50033-4436-487c-b2de-85b41f16101a",
   "metadata": {},
   "source": [
    "First, of course, we need to compute logits (and logprobs) from both models:"
   ]
  },
  {
   "cell_type": "code",
   "execution_count": 11,
   "id": "b39ba374-a61c-45ff-8fcd-17a9f8ec247b",
   "metadata": {},
   "outputs": [],
   "source": [
    "teacher_logits = teacher_model(input_ids_teacher, attention_mask=attention_mask_teacher).logits\n",
    "student_logits = student_model(input_ids_student, attention_mask=attention_mask_student).logits\n",
    "\n",
    "teacher_logprobs = torch.log_softmax(teacher_logits, -1)\n",
    "student_logprobs = torch.log_softmax(student_logits, -1)"
   ]
  },
  {
   "cell_type": "markdown",
   "id": "1ab2bc7e-950f-4a38-a381-af4bfa6b163c",
   "metadata": {},
   "source": [
    "We'll now extract the logprobs along the \"main path\" (i.e., the likelihoods of the next token among the sequence of tokens we passed to the models).\n",
    "\n",
    "Here, we have to be careful of the offsets (the model predicts the *next* token) to avoid off-by-one errors."
   ]
  },
  {
   "cell_type": "code",
   "execution_count": 12,
   "id": "79cfd60b-ef4d-4fc1-9a89-8a4aafd6f91c",
   "metadata": {},
   "outputs": [
    {
     "data": {
      "text/plain": [
       "(torch.Size([1, 36]), torch.Size([1, 37]))"
      ]
     },
     "execution_count": 12,
     "metadata": {},
     "output_type": "execute_result"
    }
   ],
   "source": [
    "teacher_main_path_logprobs = torch.take_along_dim(teacher_logprobs[:, :-1], input_ids_teacher[:, 1:, None], dim=-1).squeeze(-1)\n",
    "student_main_path_logprobs = torch.take_along_dim(student_logprobs[:, :-1], input_ids_student[:, 1:, None], dim=-1).squeeze(-1)\n",
    "\n",
    "teacher_main_path_logprobs.shape, student_main_path_logprobs.shape"
   ]
  },
  {
   "cell_type": "markdown",
   "id": "ae9d2cc7-4835-435a-8d8e-ee3a4a780ba9",
   "metadata": {},
   "source": [
    "We can also check the average main path probability, this should be quite high if things are right."
   ]
  },
  {
   "cell_type": "code",
   "execution_count": 13,
   "id": "d20784a4-44a3-4eec-a3f5-a748f6c62e93",
   "metadata": {},
   "outputs": [
    {
     "data": {
      "text/plain": [
       "tensor(0.5134, grad_fn=<DivBackward0>)"
      ]
     },
     "execution_count": 13,
     "metadata": {},
     "output_type": "execute_result"
    }
   ],
   "source": [
    "torch.exp(teacher_main_path_logprobs * attention_mask_teacher[:, :-1]).mean() / attention_mask_teacher[:, :-1].to(torch.float32).mean()"
   ]
  },
  {
   "cell_type": "markdown",
   "id": "67af3a7d-210c-423b-bd65-25d325ab2c49",
   "metadata": {},
   "source": [
    "Now, we get to the core of the ALM objective: minimizing some distance function (we'll use the default, binary cross-entropy with temperature t=100) between the product of token probabilities in every chunk across the teacher and the student. We are operating in log space, so the product of token probabilities becomes the sum of log probs, which we can achieve via a matrix multiplication with the mapping we defined above (again, careful of the offset!)."
   ]
  },
  {
   "cell_type": "code",
   "execution_count": 14,
   "id": "2780cdc1-6df9-4992-8c42-e725b3e27f65",
   "metadata": {},
   "outputs": [],
   "source": [
    "def log1mexp(x):\n",
    "    \"\"\"Computes log(1 - exp(x)) in a numerically stable way for x < 0.\"\"\"\n",
    "    # For x < log(0.5), use log1p(-exp(x)) directly\n",
    "    # For x >= log(0.5), use log(-expm1(x)) to avoid precision issues\n",
    "    log_half = -torch.log(torch.tensor(2, device=x.device))\n",
    "    return torch.where(x < log_half, torch.log1p(-torch.exp(x)), torch.log(-torch.expm1(x)))\n",
    "\n",
    "def distance_fn(log_y_true, log_y_pred, temp=100, epsilon=1e-6):\n",
    "    log_y_true = (log_y_true.to(torch.float32) / temp) - epsilon\n",
    "    log_y_pred = (log_y_pred.to(torch.float32) / temp) - epsilon\n",
    "\n",
    "    return -(\n",
    "        torch.exp(log_y_true) * log_y_pred\n",
    "        + (-torch.expm1(log_y_true) * log1mexp(log_y_pred))\n",
    "    )"
   ]
  },
  {
   "cell_type": "code",
   "execution_count": 15,
   "id": "fcd238e9-217d-4e5d-a5c9-3549d9351b31",
   "metadata": {},
   "outputs": [],
   "source": [
    "teacher_chunk_logprobs = torch.matmul(\n",
    "    teacher_main_path_logprobs[:, None, :],\n",
    "    teacher_tokens_to_chunks[:, 1:].to(teacher_main_path_logprobs.dtype),\n",
    ")\n",
    "student_chunk_logprobs = torch.matmul(\n",
    "    student_main_path_logprobs[:, None, :],\n",
    "    student_tokens_to_chunks[:, 1:].to(student_main_path_logprobs.dtype),\n",
    ")\n",
    "# or equivalently, student_tokens_to_chunks[:, 1:].sum(-2) > 0\n",
    "chunk_mask = teacher_tokens_to_chunks[:, 1:].sum(-2) > 0"
   ]
  },
  {
   "cell_type": "code",
   "execution_count": 16,
   "id": "b7af39b2-3311-4745-a288-453d28b590b3",
   "metadata": {},
   "outputs": [
    {
     "data": {
      "text/plain": [
       "tensor(0.1585, grad_fn=<DivBackward0>)"
      ]
     },
     "execution_count": 16,
     "metadata": {},
     "output_type": "execute_result"
    }
   ],
   "source": [
    "elementwise_loss = distance_fn(teacher_chunk_logprobs, student_chunk_logprobs)\n",
    "loss = (elementwise_loss * chunk_mask).mean() / chunk_mask.to(torch.float32).mean()\n",
    "loss"
   ]
  },
  {
   "cell_type": "markdown",
   "id": "ee7e6367-14b0-4d0d-982e-1f2ecac3e72e",
   "metadata": {},
   "source": [
    "And that's it!\n",
    "\n",
    "This is a 'naive' version of the ALM loss. Specifically, we have omitted (i) chunk debiasing and (ii) a more sophisticated chunk selection strategy (we are just using the shortest possible chunks). See [the paper](https://arxiv.org/abs/2503.20083) for details on those. \n",
    "\n",
    "As you've seen, the main complexity is in the alignment (and byteification), the method to compute the loss itself is actually very simple!\n",
    "\n",
    "Nonetheless, this version should already get you most of the way there. Especially if you plan to combine ALM with another objective (for example, next-token prediction), this version should be quite good, and should do much better than omitting distillation.\n",
    "\n",
    "If you're looking for the complete and battle-tested version of ALM that is implemented in `tokenkit`, check out [`tokenkit/training/losses.py`](https://github.com/bminixhofer/tokenkit/blob/main/tokenkit/training/losses.py)."
   ]
  }
 ],
 "metadata": {
  "kernelspec": {
   "display_name": "Python 3 (ipykernel)",
   "language": "python",
   "name": "python3"
  },
  "language_info": {
   "codemirror_mode": {
    "name": "ipython",
    "version": 3
   },
   "file_extension": ".py",
   "mimetype": "text/x-python",
   "name": "python",
   "nbconvert_exporter": "python",
   "pygments_lexer": "ipython3",
   "version": "3.10.12"
  }
 },
 "nbformat": 4,
 "nbformat_minor": 5
}
